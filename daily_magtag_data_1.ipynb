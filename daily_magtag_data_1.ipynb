{
  "cells": [
    {
      "cell_type": "code",
      "execution_count": 1,
      "metadata": {
        "id": "JVRMaWnYMNNZ"
      },
      "outputs": [],
      "source": [
        "# ######################### INFO ################################# #\n",
        "# gspread originally imported 3.4.2 run command to update to 5.4.0 #\n",
        "# ################################################################ #\n",
        "# !pip install gspread==5.4.0"
      ]
    },
    {
      "cell_type": "code",
      "execution_count": 2,
      "metadata": {
        "id": "N6ove2xdKe99"
      },
      "outputs": [],
      "source": [
        "import gspread\n",
        "import pandas as pd"
      ]
    },
    {
      "cell_type": "code",
      "execution_count": 3,
      "metadata": {
        "id": "MWM22n0RKsN9"
      },
      "outputs": [],
      "source": [
        "# Provide json file downloaded from google cloud console with credentials\n",
        "path_to_file = 'path/to/creds.json'\n",
        "gc = gspread.service_account(filename=path_to_file)"
      ]
    },
    {
      "cell_type": "code",
      "execution_count": 4,
      "metadata": {
        "id": "ntV9oVUwKs8A"
      },
      "outputs": [],
      "source": [
        "# provide name of worksheet to work with\n",
        "# workseet where tasks are added\n",
        "tasks_sheet = \"tasks_input\"\n",
        "tsh = gc.open(tasks_sheet)\n",
        "# worksheet where results are saved\n",
        "results_sheet = \"tasks_results\"\n",
        "rsh = gc.open(results_sheet)\n",
        "# worksheet with daily data for magtag to use\n",
        "btn1_sheet = \"daily_data_btn1\"\n",
        "btn1_sh = gc.open(btn1_sheet)\n",
        "btn2_sheet = \"daily_data_btn2\"\n",
        "btn2_sh = gc.open(btn2_sheet)\n",
        "btn3_sheet = \"daily_data_btn3\"\n",
        "btn3_sh = gc.open(btn3_sheet)"
      ]
    },
    {
      "cell_type": "code",
      "execution_count": 5,
      "metadata": {
        "id": "51yZygezWCvr"
      },
      "outputs": [],
      "source": [
        "# Results worksheet has all the results\n",
        "results_sh = rsh.worksheet('results')\n",
        "# get data and put in dataframe\n",
        "results_df = pd.DataFrame(results_sh.get_all_records())"
      ]
    },
    {
      "cell_type": "code",
      "execution_count": 6,
      "metadata": {
        "id": "cyBLQcuhjtSD"
      },
      "outputs": [],
      "source": [
        "# only want ids that have a complete\n",
        "d = {'complete': True, 'skip': False, 'pass': False}\n",
        "results_df['result'] = results_df['result'].map(d).copy()"
      ]
    },
    {
      "cell_type": "code",
      "execution_count": 7,
      "metadata": {
        "id": "YcvASJDOkKkS"
      },
      "outputs": [],
      "source": [
        "# Create list of completed id's\n",
        "list_of_ids = list(results_df.loc[results_df['result']]['task_id'])"
      ]
    },
    {
      "cell_type": "code",
      "execution_count": 8,
      "metadata": {
        "id": "Py83h_ZQNG-r"
      },
      "outputs": [],
      "source": [
        "# Tasks worksheet has all the tasks\n",
        "tasks_sh = tsh.worksheet('tasks')\n",
        "# get data and put in dataframe\n",
        "tasks_df = pd.DataFrame(tasks_sh.get_all_records())\n",
        "# drop rows with empty title\n",
        "tasks_df = tasks_df.loc[tasks_df['title'] != ''].copy()\n",
        "# reset index\n",
        "tasks_df.reset_index(drop=True, inplace=True)"
      ]
    },
    {
      "cell_type": "code",
      "execution_count": 9,
      "metadata": {
        "id": "232bStsaNmo7"
      },
      "outputs": [],
      "source": [
        "# only include these columns\n",
        "sub_cols = ['id', 'title', 'category', 'time_estimate', 'repeat',\n",
        "       'repeat_interval', 'points', 'sub_tasks', 'sub_task_ids',\n",
        "       'sub_tasks_complete']\n",
        "tasks_df = tasks_df[sub_cols].copy()"
      ]
    },
    {
      "cell_type": "code",
      "execution_count": 10,
      "metadata": {
        "id": "aw3uyEbLOVyU"
      },
      "outputs": [],
      "source": [
        "# Set datatypes for DF\n",
        "# Set boolean columns\n",
        "d = {'T': True, 'F': False, '': False}\n",
        "tasks_df['repeat'] = tasks_df['repeat'].map(d).copy()\n",
        "tasks_df['sub_tasks'] = tasks_df['sub_tasks'].map(d).copy()\n",
        "tasks_df['sub_tasks_complete'] = tasks_df['sub_tasks_complete'].map(d).copy()"
      ]
    },
    {
      "cell_type": "code",
      "execution_count": 11,
      "metadata": {
        "id": "-zkhqjpbN-La"
      },
      "outputs": [],
      "source": [
        "# Create keep column & set all to true initially\n",
        "tasks_df['keep'] = True\n",
        "# remove tasks that do not repeat and have been completed\n",
        "tasks_df.loc[\n",
        "    (tasks_df['repeat'] == False) &\n",
        "     (tasks_df['id'].isin(list_of_ids)), 'keep'] = False\n"
      ]
    },
    {
      "cell_type": "code",
      "source": [
        "# Remove spaces and turn sub_task_ids string to a list\n",
        "tasks_df.loc[\n",
        "    (tasks_df['sub_tasks']) &\n",
        "     (tasks_df['sub_task_ids'].notna()),\n",
        "    'sub_task_ids'] = tasks_df.apply(lambda row:\n",
        "                                     list(str(row['sub_task_ids']).strip().split(',')), axis=1)"
      ],
      "metadata": {
        "id": "QIzSl8zc_C76"
      },
      "execution_count": 12,
      "outputs": []
    },
    {
      "cell_type": "code",
      "source": [
        "def is_subset_of_list(row):\n",
        "  subset_list = row['sub_task_ids']\n",
        "  if isinstance(subset_list, list):\n",
        "    return set([int(ele) for ele in subset_list]).issubset(list_of_ids)\n",
        "  else:\n",
        "    return False\n",
        "\n",
        "# check all values in sub_task_ids in list_of_ids\n",
        "tasks_df['sub_tasks_complete'] = tasks_df.apply(is_subset_of_list, axis=1)"
      ],
      "metadata": {
        "id": "ileJhDYwAj8u"
      },
      "execution_count": 13,
      "outputs": []
    },
    {
      "cell_type": "code",
      "execution_count": 14,
      "metadata": {
        "id": "q7xFU3rmkvMT"
      },
      "outputs": [],
      "source": [
        "# update keep to false if id is in results.task_id and tasks_df.sub_tasks_complete is true\n",
        "tasks_df.loc[(tasks_df['id']).isin(list_of_ids) & (tasks_df['sub_tasks_complete']), 'keep'] = False"
      ]
    },
    {
      "cell_type": "code",
      "source": [
        "# tasks_df.time_estimate.unique()\n",
        "estimate_bins = {'< 15': 0,\n",
        "                 '15 - 30': 1,\n",
        "                 '60 +': 2,\n",
        "                 '31 - 60': 2}\n",
        "\n",
        "tasks_df['time_estimate'] = tasks_df['time_estimate'].map(estimate_bins).copy()"
      ],
      "metadata": {
        "id": "Ws4TlvKNGjyl"
      },
      "execution_count": 15,
      "outputs": []
    },
    {
      "cell_type": "code",
      "source": [
        "# Buttons by repeat interval\n",
        "incl_cols = ['id', 'title', 'category', 'points']\n",
        "\n",
        "# Create 3 dataframes one for each button\n",
        "btn1 = tasks_df.loc[(tasks_df['keep'] == True) & (tasks_df['time_estimate'] == 0)].copy()\n",
        "# Only include the columns needed for the magtag project\n",
        "btn1 = btn1[incl_cols].copy()\n",
        "# reset the index after pulling out btn1 records\n",
        "btn1.reset_index(inplace=True, drop=True)\n",
        "# mix up the order of the rows\n",
        "btn1 = btn1.sample(frac = 1)\n",
        "# reset the index after mixing up the rows\n",
        "btn1.reset_index(inplace=True, drop=True)\n",
        "\n",
        "btn2 = tasks_df.loc[(tasks_df['keep'] == True) & (tasks_df['time_estimate'] == 1)].copy()\n",
        "btn2 = btn2[incl_cols].copy()\n",
        "btn2.reset_index(inplace=True, drop=True)\n",
        "btn2 = btn2.sample(frac = 1)\n",
        "btn2.reset_index(inplace=True, drop=True)\n",
        "\n",
        "btn3 = tasks_df.loc[(tasks_df['keep'] == True) & (tasks_df['time_estimate'] == 2)].copy()\n",
        "btn3 = btn3[incl_cols].copy()\n",
        "btn3.reset_index(inplace=True, drop=True)\n",
        "btn3 = btn3.sample(frac = 1)\n",
        "btn3.reset_index(inplace=True, drop=True)"
      ],
      "metadata": {
        "id": "wFe92lIJGoOb"
      },
      "execution_count": 16,
      "outputs": []
    },
    {
      "cell_type": "code",
      "source": [
        "# update daily data\n",
        "# clear data from worksheet\n",
        "btn1_ws = btn1_sh.worksheet('btn1')\n",
        "btn1_ws.clear()\n",
        "btn1_ws.update([btn1.columns.values.tolist()] + btn1.values.tolist())\n",
        "\n",
        "# sht2.worksheet('btn2').clear()\n",
        "btn2_ws = btn2_sh.worksheet('btn2')\n",
        "btn2_ws.clear()\n",
        "btn2_ws.update([btn2.columns.values.tolist()] + btn2.values.tolist())\n",
        "\n",
        "# sht2.worksheet('btn3').clear()\n",
        "btn3_ws = btn3_sh.worksheet('btn3')\n",
        "btn3_ws.clear()\n",
        "btn3_ws.update([btn3.columns.values.tolist()] + btn3.values.tolist())"
      ],
      "metadata": {
        "id": "xMJVZSvqGznE"
      },
      "execution_count": null,
      "outputs": []
    },
    {
      "cell_type": "code",
      "source": [
        "# tasks_df.loc[tasks_df['keep']]"
      ],
      "metadata": {
        "id": "haOWTSd1FK2Z"
      },
      "execution_count": null,
      "outputs": []
    }
  ],
  "metadata": {
    "colab": {
      "provenance": []
    },
    "kernelspec": {
      "display_name": "Python 3",
      "name": "python3"
    },
    "language_info": {
      "name": "python"
    }
  },
  "nbformat": 4,
  "nbformat_minor": 0
}